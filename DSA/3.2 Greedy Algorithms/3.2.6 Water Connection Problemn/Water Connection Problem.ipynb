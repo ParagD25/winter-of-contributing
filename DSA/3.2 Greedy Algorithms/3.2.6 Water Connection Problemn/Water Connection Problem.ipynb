{
 "cells": [
  {
   "cell_type": "markdown",
   "metadata": {},
   "source": [
    "### Overview\n",
    "Each house has atleast one pipe going into it and one pipe going out of it. Tanks and taps are to be installed in a manner such that every house with one outgoing pipe but no incoming pipe gets a tank installed on its roof and every house with only an incoming pipe and no outgoing pipe gets a tap.\n",
    "\n",
    "Given two integers <b>n</b> and <b>p</b> denotes the number of houses and the number of pipes respectively. The connections of pipe among the houses contain three input values: <b>a_i</b>,<b> b_i</b>,<b> d_i</b>, that denotes the pipe of diameter <b><i>'d_i'</i></b> from house <b><i>'a_i'</i></b>  to house <b><i>'b_i'</i></b>.\n",
    "\n",
    "The output will contain the number of pairs of tanks and taps t installed in first line and the next t lines contain three integers: \n",
    "1) House Number of Tank.\n",
    "\n",
    "2) House Number of Tap.\n",
    "\n",
    "3) Minimum Diameter of Pipe between them."
   ]
  },
  {
   "cell_type": "markdown",
   "metadata": {},
   "source": [
    "### Approch\n",
    "Perform DFS from appropriate houses to find all different connected components. The number of different connected components is our answer 't'. \n",
    "\n",
    "The next t lines of the output are the beginning of the connected component, end of the connected component and the minimum diameter from the start to the end of the connected component in each line. \n",
    "\n",
    "Since, tanks can be installed only on the houses having outgoing pipe and no incoming pipe, therefore these are appropriate houses to start DFS from i.e. perform DFS from such unvisited houses.\n",
    "\n",
    "<b> Below is the implementation of above approach: </b>"
   ]
  },
  {
   "cell_type": "code",
   "execution_count": 8,
   "metadata": {},
   "outputs": [
    {
     "name": "stdout",
     "output_type": "stream",
     "text": [
      "3\n",
      "2 8 22\n",
      "3 1 66\n",
      "5 6 10\n"
     ]
    }
   ],
   "source": [
    "n = 0  #number of houses\n",
    "p = 0  #number of pipes\n",
    " \n",
    "# Array storing the ending vertex of the pipe\n",
    "end = [0]*100\n",
    " \n",
    "# Array storing the diameter values between two pipes\n",
    "dia = [0]*100\n",
    " \n",
    "# Array storing the starting end of pipe\n",
    "start = [0]*100\n",
    " \n",
    "# Following lists are used to store the final output\n",
    "lst1 = []\n",
    "lst2 = []\n",
    "lst3 = []\n",
    " \n",
    "ans = 0\n",
    " \n",
    "def dfs(x):\n",
    "    global ans\n",
    "    if (start[x] == 0):\n",
    "        return x\n",
    "    if (dia[x] < ans):\n",
    "        ans = dia[x]\n",
    "    return dfs(start[x])\n",
    " \n",
    "# Function performing calculations.\n",
    "def water_connection_sol(arr):\n",
    "    global ans\n",
    "    i = 0\n",
    "    while (i < p):\n",
    "        var1 = arr[i][0]\n",
    "        var2 = arr[i][1]\n",
    "        var3 = arr[i][2]\n",
    "         \n",
    "        start[var1] = var2\n",
    "        dia[var1] = var3\n",
    "        end[var2] = var1\n",
    "        i += 1\n",
    "        \n",
    "    lst1 = []\n",
    "    lst1 = []\n",
    "    lst1 = []\n",
    "     \n",
    "    #If a pipe has no ending vertex but has starting vertex i.e is an outgoing pipe then we need to start DFS with this vertex.\n",
    "    \n",
    "    for j in range(1, n + 1):\n",
    "        if (end[j] == 0 and start[j]):\n",
    "             \n",
    "            ans = 1000000000\n",
    "            sol = dfs(j)\n",
    "             \n",
    "            # We put the details of component in final output array\n",
    "            lst1.append(j)\n",
    "            lst2.append(sol)\n",
    "            lst3.append(ans)\n",
    "    print(len(lst1))\n",
    "    for j in range(len(lst1)):\n",
    "        print(lst1[j], lst2[j], lst3[j])\n",
    " \n",
    "# Sample input\n",
    "\n",
    "n = 9\n",
    "p = 6\n",
    " \n",
    "arr = [[7, 4, 98], [5, 9, 72], [4, 6, 10 ],\n",
    "        [2, 8, 22 ], [9, 7, 17], [3, 1, 66]]\n",
    " \n",
    "water_connection_sol(arr)\n",
    " "
   ]
  }
 ],
 "metadata": {
  "kernelspec": {
   "display_name": "Python 3",
   "language": "python",
   "name": "python3"
  },
  "language_info": {
   "codemirror_mode": {
    "name": "ipython",
    "version": 3
   },
   "file_extension": ".py",
   "mimetype": "text/x-python",
   "name": "python",
   "nbconvert_exporter": "python",
   "pygments_lexer": "ipython3",
   "version": "3.8.5"
  }
 },
 "nbformat": 4,
 "nbformat_minor": 4
}
