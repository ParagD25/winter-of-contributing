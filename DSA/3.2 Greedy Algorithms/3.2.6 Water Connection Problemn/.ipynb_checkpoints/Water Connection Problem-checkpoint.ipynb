{
 "cells": [
  {
   "cell_type": "markdown",
   "metadata": {},
   "source": [
    "### Overview\n",
    "Every house in the colony has at most one pipe going into it and at most one pipe going out of it. Tanks and taps are to be installed in a manner such that every house with one outgoing pipe but no incoming pipe gets a tank installed on its roof and every house with only an incoming pipe and no outgoing pipe gets a tap.’ \n",
    "Given two integers n and p denoting the number of houses and the number of pipes. The connections of pipe among the houses contain three input values: a_i, b_i, d_i denoting the pipe of diameter d_i from house a_i to house b_i, find out the efficient solution for the network. \n",
    "The output will contain the number of pairs of tanks and taps t installed in first line and the next t lines contain three integers: house number of tank, house number of tap and the minimum diameter of pipe between them."
   ]
  },
  {
   "cell_type": "markdown",
   "metadata": {},
   "source": [
    "### Approch\n",
    "Perform DFS from appropriate houses to find all different connected components. The number of different connected components is our answer t. \n",
    "The next t lines of the output are the beginning of the connected component, end of the connected component and the minimum diameter from the start to the end of the connected component in each line. \n",
    "Since, tanks can be installed only on the houses having outgoing pipe and no incoming pipe, therefore these are appropriate houses to start DFS from i.e. perform DFS from such unvisited houses.\n",
    "Below is the implementation of above approach:"
   ]
  },
  {
   "cell_type": "code",
   "execution_count": 3,
   "metadata": {},
   "outputs": [
    {
     "name": "stdout",
     "output_type": "stream",
     "text": [
      "3\n",
      "2 8 22\n",
      "3 1 66\n",
      "5 6 10\n"
     ]
    }
   ],
   "source": [
    "n = 0  #number of houses\n",
    "p = 0  #number of pipes\n",
    " \n",
    "# Array rd stores the ending vertex of pipe\n",
    "rd = [0]*1100\n",
    " \n",
    "# Array wd stores the value of diameters between two pipes\n",
    "wt = [0]*1100\n",
    " \n",
    "# Array cd stores the starting end of pipe\n",
    "cd = [0]*1100\n",
    " \n",
    "# List a, b, c are used to store the final output\n",
    "a = []\n",
    "b = []\n",
    "c = []\n",
    " \n",
    "ans = 0\n",
    " \n",
    "def dfs(w):\n",
    "    global ans\n",
    "    if (cd[w] == 0):\n",
    "        return w\n",
    "    if (wt[w] < ans):\n",
    "        ans = wt[w]\n",
    "    return dfs(cd[w])\n",
    " \n",
    "# Function performing calculations.\n",
    "def solve(arr):\n",
    "    global ans\n",
    "    i = 0\n",
    "    while (i < p):\n",
    "        q = arr[i][0]\n",
    "        h = arr[i][1]\n",
    "        t = arr[i][2]\n",
    "         \n",
    "        cd[q] = h\n",
    "        wt[q] = t\n",
    "        rd[h] = q\n",
    "        i += 1\n",
    "    a = []\n",
    "    b = []\n",
    "    c = []\n",
    "     \n",
    "    '''If a pipe has no ending vertex but has starting vertex i.e is an outgoing pipe then we need to start DFS with this vertex.'''\n",
    "    for j in range(1, n + 1):\n",
    "        if (rd[j] == 0 and cd[j]):\n",
    "             \n",
    "            ans = 1000000000\n",
    "            w = dfs(j)\n",
    "             \n",
    "            # We put the details of component in final output array\n",
    "            a.append(j)\n",
    "            b.append(w)\n",
    "            c.append(ans)\n",
    "    print(len(a))\n",
    "    for j in range(len(a)):\n",
    "        print(a[j], b[j], c[j])\n",
    " \n",
    " \n",
    "n = 9\n",
    "p = 6\n",
    " \n",
    "arr = [[7, 4, 98], [5, 9, 72], [4, 6, 10 ],\n",
    "        [2, 8, 22 ], [9, 7, 17], [3, 1, 66]]\n",
    " \n",
    "solve(arr)\n",
    " "
   ]
  },
  {
   "cell_type": "code",
   "execution_count": null,
   "metadata": {},
   "outputs": [],
   "source": []
  }
 ],
 "metadata": {
  "kernelspec": {
   "display_name": "Python 3",
   "language": "python",
   "name": "python3"
  },
  "language_info": {
   "codemirror_mode": {
    "name": "ipython",
    "version": 3
   },
   "file_extension": ".py",
   "mimetype": "text/x-python",
   "name": "python",
   "nbconvert_exporter": "python",
   "pygments_lexer": "ipython3",
   "version": "3.8.5"
  }
 },
 "nbformat": 4,
 "nbformat_minor": 4
}
